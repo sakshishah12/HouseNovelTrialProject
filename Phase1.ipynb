{
  "nbformat": 4,
  "nbformat_minor": 0,
  "metadata": {
    "colab": {
      "provenance": []
    },
    "kernelspec": {
      "name": "python3",
      "display_name": "Python 3"
    },
    "language_info": {
      "name": "python"
    }
  },
  "cells": [
    {
      "cell_type": "code",
      "execution_count": null,
      "metadata": {
        "id": "HdoWFGEWJk16",
        "colab": {
          "base_uri": "https://localhost:8080/"
        },
        "outputId": "de58428c-23b4-4cfc-9c44-9de968f2a2a0"
      },
      "outputs": [
        {
          "output_type": "stream",
          "name": "stdout",
          "text": [
            "Collecting pytesseract\n",
            "  Downloading pytesseract-0.3.13-py3-none-any.whl.metadata (11 kB)\n",
            "Collecting pdf2image\n",
            "  Downloading pdf2image-1.17.0-py3-none-any.whl.metadata (6.2 kB)\n",
            "Requirement already satisfied: pillow in /usr/local/lib/python3.11/dist-packages (11.2.1)\n",
            "Requirement already satisfied: packaging>=21.3 in /usr/local/lib/python3.11/dist-packages (from pytesseract) (24.2)\n",
            "Downloading pytesseract-0.3.13-py3-none-any.whl (14 kB)\n",
            "Downloading pdf2image-1.17.0-py3-none-any.whl (11 kB)\n",
            "Installing collected packages: pytesseract, pdf2image\n",
            "Successfully installed pdf2image-1.17.0 pytesseract-0.3.13\n"
          ]
        }
      ],
      "source": [
        "!pip install pytesseract pdf2image pillow"
      ]
    },
    {
      "cell_type": "code",
      "source": [
        "!apt-get install -y poppler-utils"
      ],
      "metadata": {
        "colab": {
          "base_uri": "https://localhost:8080/"
        },
        "id": "DePAUe08QJOl",
        "outputId": "8658e57b-0bce-462b-ec42-16937ea98535"
      },
      "execution_count": null,
      "outputs": [
        {
          "output_type": "stream",
          "name": "stdout",
          "text": [
            "Reading package lists... Done\n",
            "Building dependency tree... Done\n",
            "Reading state information... Done\n",
            "The following NEW packages will be installed:\n",
            "  poppler-utils\n",
            "0 upgraded, 1 newly installed, 0 to remove and 35 not upgraded.\n",
            "Need to get 186 kB of archives.\n",
            "After this operation, 697 kB of additional disk space will be used.\n",
            "Get:1 http://archive.ubuntu.com/ubuntu jammy-updates/main amd64 poppler-utils amd64 22.02.0-2ubuntu0.8 [186 kB]\n",
            "Fetched 186 kB in 1s (365 kB/s)\n",
            "Selecting previously unselected package poppler-utils.\n",
            "(Reading database ... 126308 files and directories currently installed.)\n",
            "Preparing to unpack .../poppler-utils_22.02.0-2ubuntu0.8_amd64.deb ...\n",
            "Unpacking poppler-utils (22.02.0-2ubuntu0.8) ...\n",
            "Setting up poppler-utils (22.02.0-2ubuntu0.8) ...\n",
            "Processing triggers for man-db (2.10.2-1) ...\n"
          ]
        }
      ]
    },
    {
      "cell_type": "code",
      "source": [
        "from pdf2image import convert_from_path\n",
        "\n",
        "# Load only first two pages (e.g., page 147 and 148)\n",
        "images = convert_from_path(\"PG117_1900.pdf\", dpi=300, first_page=1, last_page=2)\n",
        "\n",
        "# Save if needed\n",
        "for i, image in enumerate(images):\n",
        "    image.save(f\"page_{i+1}.png\", \"PNG\")"
      ],
      "metadata": {
        "id": "IT9yWHVOJ1gI"
      },
      "execution_count": null,
      "outputs": []
    },
    {
      "cell_type": "code",
      "source": [
        "import cv2\n",
        "import numpy as np\n",
        "from PIL import Image\n",
        "\n",
        "def preprocess_image(image_path, save_path=None, apply_deskew=True):\n",
        "    # Load image in grayscale\n",
        "    image = cv2.imread(image_path, cv2.IMREAD_GRAYSCALE)\n",
        "\n",
        "    # Resize to improve OCR detail\n",
        "    image = cv2.resize(image, None, fx=2, fy=2, interpolation=cv2.INTER_CUBIC)\n",
        "\n",
        "    # Enhance contrast using CLAHE\n",
        "    clahe = cv2.createCLAHE(clipLimit=2.0, tileGridSize=(8, 8))\n",
        "    enhanced = clahe.apply(image)\n",
        "\n",
        "    # Apply Gaussian Blur to reduce small noise\n",
        "    blurred = cv2.GaussianBlur(enhanced, (3, 3), 0)\n",
        "\n",
        "    # Try adaptive thresholding first\n",
        "    adaptive = cv2.adaptiveThreshold(\n",
        "        blurred, 255,\n",
        "        cv2.ADAPTIVE_THRESH_GAUSSIAN_C,\n",
        "        cv2.THRESH_BINARY, 15, 11\n",
        "    )\n",
        "\n",
        "    # Fallback: Otsu's binarization (can be better for uniform documents)\n",
        "    _, otsu = cv2.threshold(blurred, 0, 255, cv2.THRESH_BINARY + cv2.THRESH_OTSU)\n",
        "\n",
        "    # Choose adaptive or Otsu based on stddev (adaptive better in noisy background)\n",
        "    thresh = adaptive if np.std(adaptive) > np.std(otsu) else otsu\n",
        "\n",
        "    # Morphological opening to remove small white noise\n",
        "    kernel_open = np.ones((2, 2), np.uint8)\n",
        "    opened = cv2.morphologyEx(thresh, cv2.MORPH_OPEN, kernel_open)\n",
        "\n",
        "    # Morphological dilation to connect broken text\n",
        "    kernel_dilate = np.ones((2, 1), np.uint8)\n",
        "    dilated = cv2.dilate(opened, kernel_dilate, iterations=1)\n",
        "\n",
        "    # Optionally save the processed image\n",
        "    if save_path:\n",
        "        cv2.imwrite(save_path, dilated)\n",
        "\n",
        "    # Convert to PIL for pytesseract\n",
        "    return Image.fromarray(dilated)\n"
      ],
      "metadata": {
        "id": "yjqv0ZURKkb1"
      },
      "execution_count": null,
      "outputs": []
    },
    {
      "cell_type": "code",
      "source": [
        "preprocessed_image = preprocess_image(\"page_1.png\", save_path=\"processed_page_1.png\")"
      ],
      "metadata": {
        "id": "NMPZQB4MdMTk"
      },
      "execution_count": null,
      "outputs": []
    },
    {
      "cell_type": "code",
      "source": [],
      "metadata": {
        "id": "SyxZeHmtfhJj"
      },
      "execution_count": null,
      "outputs": []
    },
    {
      "cell_type": "code",
      "source": [
        "import cv2\n",
        "import numpy as np\n",
        "import os\n",
        "\n",
        "def detect_vertical_lines_and_crop(image_path, output_dir=\"column_crops\"):\n",
        "    # Load grayscale image\n",
        "    image = cv2.imread(image_path, cv2.IMREAD_GRAYSCALE)\n",
        "    height, width = image.shape\n",
        "\n",
        "    # Binarize the image\n",
        "    _, binary = cv2.threshold(image, 0, 255, cv2.THRESH_BINARY_INV + cv2.THRESH_OTSU)\n",
        "\n",
        "    # Create vertical line kernel\n",
        "    vertical_kernel = cv2.getStructuringElement(cv2.MORPH_RECT, (1, height // 20))\n",
        "\n",
        "    # Detect vertical lines\n",
        "    vertical_lines = cv2.morphologyEx(binary, cv2.MORPH_OPEN, vertical_kernel, iterations=1)\n",
        "\n",
        "    # Find contours of the vertical lines\n",
        "    contours, _ = cv2.findContours(vertical_lines, cv2.RETR_EXTERNAL, cv2.CHAIN_APPROX_SIMPLE)\n",
        "\n",
        "    # Get bounding boxes and sort by x-coordinate (left to right)\n",
        "    column_boxes = [cv2.boundingRect(c) for c in contours]\n",
        "    column_boxes.sort(key=lambda b: b[0])\n",
        "\n",
        "    # Calculate column boundaries (x values only)\n",
        "    column_boundaries = [x for (x, y, w, h) in column_boxes]\n",
        "    column_boundaries = sorted(set(column_boundaries))\n",
        "\n",
        "    # Add left edge and right edge\n",
        "    column_boundaries = [0] + column_boundaries + [width]\n",
        "\n",
        "    # Ensure output dir\n",
        "    os.makedirs(output_dir, exist_ok=True)\n",
        "\n",
        "    # Crop between column boundaries\n",
        "    cropped_columns = []\n",
        "    for i in range(len(column_boundaries) - 1):\n",
        "        x_start = column_boundaries[i]\n",
        "        x_end = column_boundaries[i + 1]\n",
        "        if x_end - x_start < width // 20:\n",
        "            continue\n",
        "        crop = image[:, x_start:x_end]\n",
        "        save_path = os.path.join(output_dir, f\"column_{i+1}.png\")\n",
        "        cv2.imwrite(save_path, crop)\n",
        "        cropped_columns.append((save_path, crop))\n",
        "\n",
        "    print(f\"Cropped {len(cropped_columns)} vertical sections to: {output_dir}/\")\n",
        "    return cropped_columns\n"
      ],
      "metadata": {
        "id": "mBMx-fRgfg2R"
      },
      "execution_count": null,
      "outputs": []
    },
    {
      "cell_type": "code",
      "source": [
        "detect_vertical_lines_and_crop(\"processed_page_1.png\")"
      ],
      "metadata": {
        "id": "Np2iYWC7frgY"
      },
      "execution_count": null,
      "outputs": []
    },
    {
      "cell_type": "code",
      "source": [
        "import os\n",
        "import cv2\n",
        "import pytesseract\n",
        "\n",
        "def ocr_columns_from_folder(folder_path):\n",
        "    full_text = \"\"\n",
        "\n",
        "    # Get sorted list of image files (assumes naming like 'column_1.png', ...)\n",
        "    image_files = sorted(\n",
        "        [f for f in os.listdir(folder_path) if f.lower().endswith(('.png', '.jpg', '.jpeg'))]\n",
        "    )\n",
        "\n",
        "    for idx, filename in enumerate(image_files):\n",
        "        img_path = os.path.join(folder_path, filename)\n",
        "\n",
        "        # Read the image\n",
        "        img = cv2.imread(img_path)\n",
        "\n",
        "        # Optional: preprocess (grayscale, blur, threshold)\n",
        "        gray = cv2.cvtColor(img, cv2.COLOR_BGR2GRAY)\n",
        "        _, binary = cv2.threshold(gray, 0, 255, cv2.THRESH_BINARY + cv2.THRESH_OTSU)\n",
        "\n",
        "        # OCR with Tesseract\n",
        "        column_text = pytesseract.image_to_string(binary, config=\"--psm 4\")\n",
        "        full_text += f\"\\n### Column {idx + 1} ({filename}) ###\\n{column_text.strip()}\\n\"\n",
        "\n",
        "    return full_text\n",
        "fs=ocr_columns_from_folder(\"/content/column_crops\")\n"
      ],
      "metadata": {
        "id": "QBQt3z0-X6Cd"
      },
      "execution_count": null,
      "outputs": []
    },
    {
      "cell_type": "code",
      "source": [
        "fs"
      ],
      "metadata": {
        "colab": {
          "base_uri": "https://localhost:8080/",
          "height": 191
        },
        "id": "7mlswpr6jwAL",
        "outputId": "d07f8f3d-470c-46bd-ea5b-de56b5a05b4f"
      },
      "execution_count": null,
      "outputs": [
        {
          "output_type": "execute_result",
          "data": {
            "text/plain": [
              "'\\n### Column 1 (column_1.png) ###\\n° ea: et . Soot yt SON Rm Bem, * . ate as te\\n. sat sola we tlt. . . . : - soe . . Teer\\nSe TU De Ne Ft Bee Be, wos ne\\nvee SU ee oe an aan re . Rope - ot - a ee\\n: five - *. an ut we ost. : Tye - . ;\\nvo ae . haan it ed wo tee ~ a 2 2 cot 7, : . oo\\n: eT eds 7 7 . : ne ’ . — , oo 7 : - ~ a\\neas i an \" - oly. Pa, : /\\n. . wt - pose o 4 ne aa ad . a . nos\\nLoe us t. oo | . sg y | ‘ ; . i\\n: : | in Of\\n43. . V .\\n? z : . . ‘\\n\\nthe =\\nALL  —s MINNEAPOLIS CI\\n\\n    \\n\\n     \\n\\n| ‘Allen aston C, moved. to Fargo; N D. .\\n‘ Warren F, contr; r 1522 20th av n\\n“ wm cooper Co-op Bbl | Mnfg Co, r 2915\\n\\nSth.\\n_ Wim A (Scofield & Allen), r 1613. Hillside\\nave\\n| ALLEN WILLIAM Cc, SEC THE GREAT\\nWestern Indemnity Cor 619. ‘The Phoe-\\nnix, r 314 12th av\\n“wm D (Allen Bros), r. jst ‘Aldrich: av’ 8.\\n“Wm D, ‘fireman Cc M & St P. Ry, r 1310 e\\n\\n25th.\\n“Wm H, elk: R. s. Goodfellow & Cor St\\n\\nPau\\n“Wm. a Yr 2899 15th av S. 7\\n_ a wo Joseph, medicine mnfr 13. e 25th, r\\n\\n44 & Tackson (August Alien, Hans Jack.\\n\\n\\' gon), saloons’ 1507 Washn’ av 8 and 961\\nCentral av.\\n\\nAllendort W wm (Brown & -Allendorf), b 93\\n\\nag a\\n\\nAllerton - Herbert P, -millwright- Backus-\\n\\n. Brooks Co, r 1723 Washn av n. .\\n\\nAlletzhausser Mrs. Lena, | timekpr A. M &\\nA E-Clerihew, r°2018. Aldrich av_n. ©\\n\\nAlley jilbert.¢ G, ‘student .U of M; b 1326 3 e\\n\\n“’ Albert J J, mngr Huber. Mats Co,. r 3088\\n| av\\n“ Bertine HH, printer, Dd. 648 3 e Ontario.\\n-* Brentford: J, ins agt, r 611 e 25th\\n“e eh 8, clk Kibbee & Crandall, r ed\\ne 25th. | ok\\n‘“ Bllis D, moved to Lincoin, Neb. 7\\n“ Frederick G, moved to Bangor, Me, -\\n“ John C, cik g E Oison Co, r 610 Jewett pl.\\ni John E, r 3612 Columbus av.\\nae Moses BH, trav agt, r 648 s e ‘Ontario.\\nAllgren J ohn, b 2307 n 2d..-\\n| Allie Charles, news agt George: Allanson, b\\n- CM:-& St P Ry depot. |\\n. ‘ Charles .H, clk, b 810 YWashn av Ss. ee\\n‘Estelle L,. ‘moved to Oelwein, Ja. -\\n“ Lo is, cooper American: Linseed Co, r\\nWashn av gs\\nAllteder Samuel C, ‘ab T H Reeves, b 4B\\n. QGentral av. —\\nAllingham Harry J, clk Standard Oil Co, b\\n1012 se Essex...\\nALLIS EDWARD P CO THE, JOHN ¥\\n- Harrison Mner,. Flour Mill Machinery\\n-and Reynolds Corliss Engines, 416 Corn\\n\\nExch.\\n\\na Roy Ww, student U of M, rms 328. isth av\\n. -e, ,\\nAllison, see also. Allason and Ellison. - :\\n\\n‘s trav agt Mpls Thresh M Co, t. St\\n| “Cloud, ‘Minn. ~ . :\\n«a can, driver: ‘Yerxa Bros & ‘Co, b 416\\n“ \" Charles, ‘tiistr wm. Bros, Tr 1845: n. e\\n\\n/ Quin\\nJO, Davia x. ‘bkpr. Smith: & Wyman, r 1406\\n: ne Monroe.\\n\\nTHE.AMERICAN LAND\\nAND TITLE REGISTER.\\n\\n| Gives the Real Estate News _\\nfor the Whole Country---SUBSCRIBE. Now.\\n\\n68 GRISWOLD STREET,\\n> DETROIT, MICH.\\n\\nCIRCULARS AND_ ENV\\n\\n- MINNEAPOLIS DIRECTORY ce\\n\\n \\n\\nSe Bee Le =\\n\\n### Column 2 (column_2.png) ###\\nhye er eer bs we OT Oe le ge ee Cote ce oO web F_ + a ~ se\\nPye Cote SS oe ee (ee Re 3 <\\n7 . 1\\n.\\n\\not wes\\neet foes CERT og eee LY we : 0 ete : v\\nae -™~ wet . le, - + oe moe . : - se ee - os\\noe wt . a ee vos ie . al eh na .\\n\\now. 6. KING, - Manager. a 450 0 Rooms\\n99 © ‘Amorican Plan, $2. 50 to $5.00 Per Day |\\n\\n‘European Plan, $1. 00 to $3.50 Per Day\\n\\n \\n\\nTY pirEcTroRY. = ALM iT\\n\\nLUDWIG. PLANOS\\n\\nThe best medium Piano made.\\n_ Sold on easy payments.\\nFORMERLY MPLS. House or\\nWw. J. DYER & BRO.\\n- Metropolitan Bidg.,\\n ” «&l-43 S, 6th St.\\n\\n \\n\\n \\n\\n \\n\\n \\n\\nAllison John. painter, r 416 s 5th. -\\n-*© John M, dep sheriff, b 820.s 9th. —\\n\\n‘‘ John T, trav agt Salisbury - & Satterlee,\\nop 2722 ‘3d av s._\\nALLISON: w pd ca, A Cc ‘DICE. DIST\\n . Mner, Physicians’ ‘Furniture 68 Syndi-\\n~ -eate Bik.\\n\\n“ Wm H, clk Nichols & Shepard Co, b 16\\na Seymour avse | } |\\nAllond Patrick, lab, rms 28 Céntral av. —\\nAllroggen. ‘Elizabeth (wid Conrad), r He n\\n\\ne Mai\\nae John. A finisher Otto Witte, r 218 10th.\\nav n e.\\n\\n« Joseph Cc, ‘beveler Forman, ‘Ford & Co, db\\n.. 13 ne \"Main.\\n\\n‘* Morris, finisher, r 108 12th av ne: -\\n«fe * Peter, clk Kunz Oi Co,,r “a na e. Mar-\\n -gha\\nAllschwager, see Altschwager.. aoe\\nAllstrom, see Ahistrom and- Elistrom. we\\nAllyn Jo ohn S, messr U 8 Exp Co, r rt 1st\\n\\nAlm\" “Andrew, tailor ‘The Plymouth, r 2628\\n48th avs.\\n‘“* Anna (wid Andrew), bd 1315 s 7th.\\n* Annie K, dom 2646 Aldrich av n.\\n“* Arthur, lab Washburn \\'C; b 623 7th av 3.\\n“ Arvid G, student U of M, ‘b 1509 Frank-\\n *- lin av e. ce\\n* Christina (wid John), r 25 Cooper. ©\\n“ Blizabeth (wid Ole), r $25 19th av Ss.\\n“ Gustav, lab Shevlin-Carpenter Co, r ma\\n“Cedar av.\\n‘* Hannah, dom 1904 Chicago. av.\\n“ Hannah, clk Pearson Bros, b. 2607 ‘Stev-\\n_ .eng av\\ne Hans O, bakery 823. Cedar av, r 825 19th\\n\\n“ Hulda, dom 1600 Harmon pl\\n‘* John, lab, b 1107 Washn av s..\\n\\n#6 Louise, dom flat C 643 e 18th. Se ys\\na“ Minnie, Jaundress, b 2108 Elliot av.\\n“« Wm, biksmith; rms 1015 Washn av. 8.\\nAlme Christine, clk, rms .125 n 7th.\\nAlmendinger Charles C, ‘sweeper | Palisade\\n\\n> . Mill, r 3543 Bryant av n.\\n-“ Charles C, opr. North Star. Shoe Co, b\\n2613 e 24th...\\n‘ Frederick, sawyer Backus-Brooks Co,\\nrms 242 2d avn |. :\\nAlmer, see Elmer. . eP ts\\nAlmere Frank 0, cutter, T 27T- th av 8. 7\\nAlmegren Alma, dom. 1612 Park av. Soe\\n** fohn, carp, \\'b 1022 s Sth. toe\\n““ Ole W, lab, r 1200 e 23d. |\\nAlmich Louis. W, ceartnkr “Max . Chivkin, b\\n1311 s 4th.\\nAlmli Alois O, tmstr Jefferson & Kasson,\\nr 959 18th av n e.\\nAlmos Caroline, smstrs, b 628 15th av. s ee\\n* Wymma, dom 1400 ith a\\n_ * Ole, helper Am Bridge. Co, b 623 sth av\\n\\nI LOPES ADDRESSED\\n\\ny . 024-986 Lumber ’ Exchenge.\\' © Ear\\n\\n \\n\\n \\n\\n \\n\\na Upi™g. * mt att ee ert. bo: . geo dee Mit CR ng tt ate ee MS re tS Sere\\nFerg yee eh fg a AO T SU OSDir pe tee go SA i a ee Be\\n\\nMinneapolis City Directory 1900\\n'"
            ],
            "application/vnd.google.colaboratory.intrinsic+json": {
              "type": "string"
            }
          },
          "metadata": {},
          "execution_count": 50
        }
      ]
    },
    {
      "cell_type": "code",
      "source": [
        "import re\n",
        "\n",
        "def parse_entry(line):\n",
        "    pattern = re.compile(\n",
        "        r'^(?P<first>[A-Z][a-z.\\']*)\\s+(?P<last>[A-Z][a-zA-Z.\\'-]*)'                         # Name\n",
        "        r'(?:,\\s*(?P<occupation>.*?))?'                                                     # Occupation (optional, ends before address marker)\n",
        "        r'(?:,\\s*(?P<res_indicator>r\\.|b\\.|res\\.|dom\\.))?\\s*'                                # Residence indicator\n",
        "        r'(?P<address>[\\d]{1,5}[\\w\\s\\.]*[AaVvEeNnSs]*[\\.]?)?'                               # Address (digits and street)\n",
        "    )\n",
        "\n",
        "    match = pattern.search(line)\n",
        "    if not match:\n",
        "        return None\n",
        "\n",
        "    entry = match.groupdict()\n",
        "\n",
        "    # Detect widow case\n",
        "    spouse_match = re.search(r'\\(wid\\s+([A-Za-z\\s]+)\\)', line)\n",
        "    entry['spouse_name'] = spouse_match.group(1) if spouse_match else None\n",
        "\n",
        "    # Employer (very fuzzy, try capturing if \"employer\" pattern exists)\n",
        "    employer_match = re.search(r'bkpr\\s+(.*?)(?:,|$)', line)\n",
        "    if not employer_match:\n",
        "        employer_match = re.search(r'(?:emp\\.|clerk|foreman|pkr|tmstr|lineman)\\s+(.*?)(?:,|$)', line)\n",
        "    entry['employer'] = employer_match.group(1).strip() if employer_match else None\n",
        "\n",
        "    return entry\n"
      ],
      "metadata": {
        "id": "ZA3c4NgOLqJX"
      },
      "execution_count": null,
      "outputs": []
    },
    {
      "cell_type": "code",
      "source": [
        "parsed_people = []\n",
        "\n",
        "for line in fs.splitlines():\n",
        "    line = line.strip()\n",
        "    if line and re.match(r'^[A-Z][a-z]+', line):  # likely a resident line\n",
        "        parsed = parse_entry(line)\n",
        "        if parsed:\n",
        "            parsed['directory_year'] = 1900\n",
        "            parsed_people.append(parsed)\n"
      ],
      "metadata": {
        "id": "G99BtNskMzKa"
      },
      "execution_count": null,
      "outputs": []
    },
    {
      "cell_type": "code",
      "source": [
        "import json\n",
        "\n",
        "print(json.dumps(parsed_people, indent=2))  # Print first 10 for review\n"
      ],
      "metadata": {
        "colab": {
          "base_uri": "https://localhost:8080/"
        },
        "id": "1Wvx3OCaM5Qb",
        "outputId": "cdaf3b58-c977-46cb-a3d9-18b801f58dc7"
      },
      "execution_count": null,
      "outputs": [
        {
          "output_type": "stream",
          "name": "stdout",
          "text": [
            "[\n",
            "  {\n",
            "    \"first\": \"Se\",\n",
            "    \"last\": \"TU\",\n",
            "    \"occupation\": null,\n",
            "    \"res_indicator\": null,\n",
            "    \"address\": null,\n",
            "    \"spouse_name\": null,\n",
            "    \"employer\": null,\n",
            "    \"directory_year\": 1900\n",
            "  },\n",
            "  {\n",
            "    \"first\": \"Western\",\n",
            "    \"last\": \"Indemnity\",\n",
            "    \"occupation\": null,\n",
            "    \"res_indicator\": null,\n",
            "    \"address\": null,\n",
            "    \"spouse_name\": null,\n",
            "    \"employer\": null,\n",
            "    \"directory_year\": 1900\n",
            "  },\n",
            "  {\n",
            "    \"first\": \"Allendort\",\n",
            "    \"last\": \"W\",\n",
            "    \"occupation\": null,\n",
            "    \"res_indicator\": null,\n",
            "    \"address\": null,\n",
            "    \"spouse_name\": null,\n",
            "    \"employer\": null,\n",
            "    \"directory_year\": 1900\n",
            "  },\n",
            "  {\n",
            "    \"first\": \"Alletzhausser\",\n",
            "    \"last\": \"Mrs.\",\n",
            "    \"occupation\": null,\n",
            "    \"res_indicator\": null,\n",
            "    \"address\": null,\n",
            "    \"spouse_name\": null,\n",
            "    \"employer\": null,\n",
            "    \"directory_year\": 1900\n",
            "  },\n",
            "  {\n",
            "    \"first\": \"Allgren\",\n",
            "    \"last\": \"J\",\n",
            "    \"occupation\": null,\n",
            "    \"res_indicator\": null,\n",
            "    \"address\": null,\n",
            "    \"spouse_name\": null,\n",
            "    \"employer\": null,\n",
            "    \"directory_year\": 1900\n",
            "  },\n",
            "  {\n",
            "    \"first\": \"Allteder\",\n",
            "    \"last\": \"Samuel\",\n",
            "    \"occupation\": null,\n",
            "    \"res_indicator\": null,\n",
            "    \"address\": null,\n",
            "    \"spouse_name\": null,\n",
            "    \"employer\": null,\n",
            "    \"directory_year\": 1900\n",
            "  },\n",
            "  {\n",
            "    \"first\": \"Allingham\",\n",
            "    \"last\": \"Harry\",\n",
            "    \"occupation\": null,\n",
            "    \"res_indicator\": null,\n",
            "    \"address\": null,\n",
            "    \"spouse_name\": null,\n",
            "    \"employer\": null,\n",
            "    \"directory_year\": 1900\n",
            "  },\n",
            "  {\n",
            "    \"first\": \"Se\",\n",
            "    \"last\": \"Bee\",\n",
            "    \"occupation\": null,\n",
            "    \"res_indicator\": null,\n",
            "    \"address\": null,\n",
            "    \"spouse_name\": null,\n",
            "    \"employer\": null,\n",
            "    \"directory_year\": 1900\n",
            "  },\n",
            "  {\n",
            "    \"first\": \"Pye\",\n",
            "    \"last\": \"Cote\",\n",
            "    \"occupation\": null,\n",
            "    \"res_indicator\": null,\n",
            "    \"address\": null,\n",
            "    \"spouse_name\": null,\n",
            "    \"employer\": null,\n",
            "    \"directory_year\": 1900\n",
            "  },\n",
            "  {\n",
            "    \"first\": \"Ww.\",\n",
            "    \"last\": \"J.\",\n",
            "    \"occupation\": null,\n",
            "    \"res_indicator\": null,\n",
            "    \"address\": null,\n",
            "    \"spouse_name\": null,\n",
            "    \"employer\": null,\n",
            "    \"directory_year\": 1900\n",
            "  },\n",
            "  {\n",
            "    \"first\": \"Allison\",\n",
            "    \"last\": \"John.\",\n",
            "    \"occupation\": null,\n",
            "    \"res_indicator\": null,\n",
            "    \"address\": null,\n",
            "    \"spouse_name\": null,\n",
            "    \"employer\": null,\n",
            "    \"directory_year\": 1900\n",
            "  },\n",
            "  {\n",
            "    \"first\": \"Allond\",\n",
            "    \"last\": \"Patrick\",\n",
            "    \"occupation\": \"\",\n",
            "    \"res_indicator\": null,\n",
            "    \"address\": null,\n",
            "    \"spouse_name\": null,\n",
            "    \"employer\": null,\n",
            "    \"directory_year\": 1900\n",
            "  },\n",
            "  {\n",
            "    \"first\": \"Allyn\",\n",
            "    \"last\": \"Jo\",\n",
            "    \"occupation\": null,\n",
            "    \"res_indicator\": null,\n",
            "    \"address\": null,\n",
            "    \"spouse_name\": null,\n",
            "    \"employer\": null,\n",
            "    \"directory_year\": 1900\n",
            "  },\n",
            "  {\n",
            "    \"first\": \"Alme\",\n",
            "    \"last\": \"Christine\",\n",
            "    \"occupation\": \"\",\n",
            "    \"res_indicator\": null,\n",
            "    \"address\": null,\n",
            "    \"spouse_name\": null,\n",
            "    \"employer\": null,\n",
            "    \"directory_year\": 1900\n",
            "  },\n",
            "  {\n",
            "    \"first\": \"Almendinger\",\n",
            "    \"last\": \"Charles\",\n",
            "    \"occupation\": null,\n",
            "    \"res_indicator\": null,\n",
            "    \"address\": null,\n",
            "    \"spouse_name\": null,\n",
            "    \"employer\": null,\n",
            "    \"directory_year\": 1900\n",
            "  },\n",
            "  {\n",
            "    \"first\": \"Almere\",\n",
            "    \"last\": \"Frank\",\n",
            "    \"occupation\": null,\n",
            "    \"res_indicator\": null,\n",
            "    \"address\": \"0\",\n",
            "    \"spouse_name\": null,\n",
            "    \"employer\": null,\n",
            "    \"directory_year\": 1900\n",
            "  },\n",
            "  {\n",
            "    \"first\": \"Almegren\",\n",
            "    \"last\": \"Alma\",\n",
            "    \"occupation\": \"\",\n",
            "    \"res_indicator\": null,\n",
            "    \"address\": null,\n",
            "    \"spouse_name\": null,\n",
            "    \"employer\": null,\n",
            "    \"directory_year\": 1900\n",
            "  },\n",
            "  {\n",
            "    \"first\": \"Almich\",\n",
            "    \"last\": \"Louis.\",\n",
            "    \"occupation\": null,\n",
            "    \"res_indicator\": null,\n",
            "    \"address\": null,\n",
            "    \"spouse_name\": null,\n",
            "    \"employer\": null,\n",
            "    \"directory_year\": 1900\n",
            "  },\n",
            "  {\n",
            "    \"first\": \"Almli\",\n",
            "    \"last\": \"Alois\",\n",
            "    \"occupation\": null,\n",
            "    \"res_indicator\": null,\n",
            "    \"address\": null,\n",
            "    \"spouse_name\": null,\n",
            "    \"employer\": \"Jefferson & Kasson\",\n",
            "    \"directory_year\": 1900\n",
            "  },\n",
            "  {\n",
            "    \"first\": \"Almos\",\n",
            "    \"last\": \"Caroline\",\n",
            "    \"occupation\": \"\",\n",
            "    \"res_indicator\": null,\n",
            "    \"address\": null,\n",
            "    \"spouse_name\": null,\n",
            "    \"employer\": null,\n",
            "    \"directory_year\": 1900\n",
            "  },\n",
            "  {\n",
            "    \"first\": \"Minneapolis\",\n",
            "    \"last\": \"City\",\n",
            "    \"occupation\": null,\n",
            "    \"res_indicator\": null,\n",
            "    \"address\": null,\n",
            "    \"spouse_name\": null,\n",
            "    \"employer\": null,\n",
            "    \"directory_year\": 1900\n",
            "  }\n",
            "]\n"
          ]
        }
      ]
    },
    {
      "cell_type": "code",
      "source": [
        "!pip install google-generativeai"
      ],
      "metadata": {
        "colab": {
          "base_uri": "https://localhost:8080/"
        },
        "id": "3TS-UClPM7qx",
        "outputId": "a8182077-de61-49bd-929e-6a690bc85dda"
      },
      "execution_count": null,
      "outputs": [
        {
          "output_type": "stream",
          "name": "stdout",
          "text": [
            "Requirement already satisfied: google-generativeai in /usr/local/lib/python3.11/dist-packages (0.8.5)\n",
            "Requirement already satisfied: google-ai-generativelanguage==0.6.15 in /usr/local/lib/python3.11/dist-packages (from google-generativeai) (0.6.15)\n",
            "Requirement already satisfied: google-api-core in /usr/local/lib/python3.11/dist-packages (from google-generativeai) (2.25.1)\n",
            "Requirement already satisfied: google-api-python-client in /usr/local/lib/python3.11/dist-packages (from google-generativeai) (2.172.0)\n",
            "Requirement already satisfied: google-auth>=2.15.0 in /usr/local/lib/python3.11/dist-packages (from google-generativeai) (2.38.0)\n",
            "Requirement already satisfied: protobuf in /usr/local/lib/python3.11/dist-packages (from google-generativeai) (5.29.5)\n",
            "Requirement already satisfied: pydantic in /usr/local/lib/python3.11/dist-packages (from google-generativeai) (2.11.7)\n",
            "Requirement already satisfied: tqdm in /usr/local/lib/python3.11/dist-packages (from google-generativeai) (4.67.1)\n",
            "Requirement already satisfied: typing-extensions in /usr/local/lib/python3.11/dist-packages (from google-generativeai) (4.14.0)\n",
            "Requirement already satisfied: proto-plus<2.0.0dev,>=1.22.3 in /usr/local/lib/python3.11/dist-packages (from google-ai-generativelanguage==0.6.15->google-generativeai) (1.26.1)\n",
            "Requirement already satisfied: googleapis-common-protos<2.0.0,>=1.56.2 in /usr/local/lib/python3.11/dist-packages (from google-api-core->google-generativeai) (1.70.0)\n",
            "Requirement already satisfied: requests<3.0.0,>=2.18.0 in /usr/local/lib/python3.11/dist-packages (from google-api-core->google-generativeai) (2.32.3)\n",
            "Requirement already satisfied: cachetools<6.0,>=2.0.0 in /usr/local/lib/python3.11/dist-packages (from google-auth>=2.15.0->google-generativeai) (5.5.2)\n",
            "Requirement already satisfied: pyasn1-modules>=0.2.1 in /usr/local/lib/python3.11/dist-packages (from google-auth>=2.15.0->google-generativeai) (0.4.2)\n",
            "Requirement already satisfied: rsa<5,>=3.1.4 in /usr/local/lib/python3.11/dist-packages (from google-auth>=2.15.0->google-generativeai) (4.9.1)\n",
            "Requirement already satisfied: httplib2<1.0.0,>=0.19.0 in /usr/local/lib/python3.11/dist-packages (from google-api-python-client->google-generativeai) (0.22.0)\n",
            "Requirement already satisfied: google-auth-httplib2<1.0.0,>=0.2.0 in /usr/local/lib/python3.11/dist-packages (from google-api-python-client->google-generativeai) (0.2.0)\n",
            "Requirement already satisfied: uritemplate<5,>=3.0.1 in /usr/local/lib/python3.11/dist-packages (from google-api-python-client->google-generativeai) (4.2.0)\n",
            "Requirement already satisfied: annotated-types>=0.6.0 in /usr/local/lib/python3.11/dist-packages (from pydantic->google-generativeai) (0.7.0)\n",
            "Requirement already satisfied: pydantic-core==2.33.2 in /usr/local/lib/python3.11/dist-packages (from pydantic->google-generativeai) (2.33.2)\n",
            "Requirement already satisfied: typing-inspection>=0.4.0 in /usr/local/lib/python3.11/dist-packages (from pydantic->google-generativeai) (0.4.1)\n",
            "Requirement already satisfied: grpcio<2.0.0,>=1.33.2 in /usr/local/lib/python3.11/dist-packages (from google-api-core[grpc]!=2.0.*,!=2.1.*,!=2.10.*,!=2.2.*,!=2.3.*,!=2.4.*,!=2.5.*,!=2.6.*,!=2.7.*,!=2.8.*,!=2.9.*,<3.0.0dev,>=1.34.1->google-ai-generativelanguage==0.6.15->google-generativeai) (1.73.0)\n",
            "Requirement already satisfied: grpcio-status<2.0.0,>=1.33.2 in /usr/local/lib/python3.11/dist-packages (from google-api-core[grpc]!=2.0.*,!=2.1.*,!=2.10.*,!=2.2.*,!=2.3.*,!=2.4.*,!=2.5.*,!=2.6.*,!=2.7.*,!=2.8.*,!=2.9.*,<3.0.0dev,>=1.34.1->google-ai-generativelanguage==0.6.15->google-generativeai) (1.71.0)\n",
            "Requirement already satisfied: pyparsing!=3.0.0,!=3.0.1,!=3.0.2,!=3.0.3,<4,>=2.4.2 in /usr/local/lib/python3.11/dist-packages (from httplib2<1.0.0,>=0.19.0->google-api-python-client->google-generativeai) (3.2.3)\n",
            "Requirement already satisfied: pyasn1<0.7.0,>=0.6.1 in /usr/local/lib/python3.11/dist-packages (from pyasn1-modules>=0.2.1->google-auth>=2.15.0->google-generativeai) (0.6.1)\n",
            "Requirement already satisfied: charset-normalizer<4,>=2 in /usr/local/lib/python3.11/dist-packages (from requests<3.0.0,>=2.18.0->google-api-core->google-generativeai) (3.4.2)\n",
            "Requirement already satisfied: idna<4,>=2.5 in /usr/local/lib/python3.11/dist-packages (from requests<3.0.0,>=2.18.0->google-api-core->google-generativeai) (3.10)\n",
            "Requirement already satisfied: urllib3<3,>=1.21.1 in /usr/local/lib/python3.11/dist-packages (from requests<3.0.0,>=2.18.0->google-api-core->google-generativeai) (2.4.0)\n",
            "Requirement already satisfied: certifi>=2017.4.17 in /usr/local/lib/python3.11/dist-packages (from requests<3.0.0,>=2.18.0->google-api-core->google-generativeai) (2025.6.15)\n"
          ]
        }
      ]
    },
    {
      "cell_type": "code",
      "source": [
        "import google.generativeai as genai\n",
        "\n",
        "genai.configure(api_key=\"\")\n"
      ],
      "metadata": {
        "id": "VUnuLaG3NY4f"
      },
      "execution_count": null,
      "outputs": []
    },
    {
      "cell_type": "code",
      "source": [],
      "metadata": {
        "id": "NbVzLLF_GF_T"
      },
      "execution_count": null,
      "outputs": []
    },
    {
      "cell_type": "code",
      "source": [
        "from typing import List\n",
        "import json\n",
        "import re\n",
        "\n",
        "# 1. Break text into chunks (by entries or lines)\n",
        "def chunk_ocr_text(text: str, max_lines: int = 40) -> List[str]:\n",
        "    lines = text.splitlines()\n",
        "    chunks = []\n",
        "    for i in range(0, len(lines), max_lines):\n",
        "        chunk = \"\\n\".join(lines[i:i + max_lines])\n",
        "        chunks.append(chunk)\n",
        "    return chunks\n",
        "\n",
        "# 2. Ensure Gemini only returns JSON\n",
        "def build_prompt(chunk_text: str) -> str:\n",
        "    return f\"\"\"\n",
        "You are an expert in parsing OCR-transcribed historical city directories like those from 1908 Minneapolis.\n",
        "\n",
        "Parse the input into structured JSON entries with these fields:\n",
        "- first_name\n",
        "- last_name\n",
        "- spouse_name (or null)\n",
        "- occupation (expand abbreviations like bkpr → bookkeeper)\n",
        "- home_address (standardized)\n",
        "- business_address (if available)\n",
        "- year (default 1908)\n",
        "\n",
        "Return ONLY valid JSON list. Do not add explanation or notes.\n",
        "\n",
        "Input:\n",
        "{chunk_text}\n",
        "\"\"\"\n",
        "\n",
        "# 3. Process each chunk\n",
        "def extract_all_entries(model, ocr_text: str) -> List[dict]:\n",
        "    all_results = []\n",
        "    chunks = chunk_ocr_text(ocr_text)\n",
        "\n",
        "    for chunk in chunks:\n",
        "        prompt = build_prompt(chunk)\n",
        "        response = model.generate_content(prompt)\n",
        "        try:\n",
        "            # Remove trailing notes if Gemini still adds them\n",
        "            json_part = re.search(r\"\\[.*\\]\", response.text, re.DOTALL)\n",
        "            if json_part:\n",
        "                extracted = json.loads(json_part.group(0))\n",
        "                all_results.extend(extracted)\n",
        "        except Exception as e:\n",
        "            print(\"Error parsing chunk:\", e)\n",
        "            continue\n",
        "\n",
        "    return all_results\n"
      ],
      "metadata": {
        "id": "N4LnV-wxZxvS"
      },
      "execution_count": null,
      "outputs": []
    },
    {
      "cell_type": "code",
      "source": [
        "model = genai.GenerativeModel(model_name=\"gemini-1.5-pro\")\n",
        "extract_all_entries(model=model,ocr_text=fs)"
      ],
      "metadata": {
        "colab": {
          "base_uri": "https://localhost:8080/",
          "height": 304
        },
        "id": "uXdfQQELZ5u4",
        "outputId": "e1c18391-205b-42a9-ebd5-897e46a76563"
      },
      "execution_count": null,
      "outputs": [
        {
          "output_type": "error",
          "ename": "KeyboardInterrupt",
          "evalue": "",
          "traceback": [
            "\u001b[0;31m---------------------------------------------------------------------------\u001b[0m",
            "\u001b[0;31mKeyboardInterrupt\u001b[0m                         Traceback (most recent call last)",
            "\u001b[0;32m/tmp/ipython-input-53-925689626.py\u001b[0m in \u001b[0;36m<cell line: 0>\u001b[0;34m()\u001b[0m\n\u001b[1;32m      1\u001b[0m \u001b[0mmodel\u001b[0m \u001b[0;34m=\u001b[0m \u001b[0mgenai\u001b[0m\u001b[0;34m.\u001b[0m\u001b[0mGenerativeModel\u001b[0m\u001b[0;34m(\u001b[0m\u001b[0mmodel_name\u001b[0m\u001b[0;34m=\u001b[0m\u001b[0;34m\"gemini-1.5-pro\"\u001b[0m\u001b[0;34m)\u001b[0m\u001b[0;34m\u001b[0m\u001b[0;34m\u001b[0m\u001b[0m\n\u001b[0;32m----> 2\u001b[0;31m \u001b[0mextract_all_entries\u001b[0m\u001b[0;34m(\u001b[0m\u001b[0mmodel\u001b[0m\u001b[0;34m=\u001b[0m\u001b[0mmodel\u001b[0m\u001b[0;34m,\u001b[0m\u001b[0mocr_text\u001b[0m\u001b[0;34m=\u001b[0m\u001b[0mfs\u001b[0m\u001b[0;34m)\u001b[0m\u001b[0;34m\u001b[0m\u001b[0;34m\u001b[0m\u001b[0m\n\u001b[0m",
            "\u001b[0;32m/tmp/ipython-input-46-65767344.py\u001b[0m in \u001b[0;36mextract_all_entries\u001b[0;34m(model, ocr_text)\u001b[0m\n\u001b[1;32m     39\u001b[0m     \u001b[0;32mfor\u001b[0m \u001b[0mchunk\u001b[0m \u001b[0;32min\u001b[0m \u001b[0mchunks\u001b[0m\u001b[0;34m:\u001b[0m\u001b[0;34m\u001b[0m\u001b[0;34m\u001b[0m\u001b[0m\n\u001b[1;32m     40\u001b[0m         \u001b[0mprompt\u001b[0m \u001b[0;34m=\u001b[0m \u001b[0mbuild_prompt\u001b[0m\u001b[0;34m(\u001b[0m\u001b[0mchunk\u001b[0m\u001b[0;34m)\u001b[0m\u001b[0;34m\u001b[0m\u001b[0;34m\u001b[0m\u001b[0m\n\u001b[0;32m---> 41\u001b[0;31m         \u001b[0mresponse\u001b[0m \u001b[0;34m=\u001b[0m \u001b[0mmodel\u001b[0m\u001b[0;34m.\u001b[0m\u001b[0mgenerate_content\u001b[0m\u001b[0;34m(\u001b[0m\u001b[0mprompt\u001b[0m\u001b[0;34m)\u001b[0m\u001b[0;34m\u001b[0m\u001b[0;34m\u001b[0m\u001b[0m\n\u001b[0m\u001b[1;32m     42\u001b[0m         \u001b[0;32mtry\u001b[0m\u001b[0;34m:\u001b[0m\u001b[0;34m\u001b[0m\u001b[0;34m\u001b[0m\u001b[0m\n\u001b[1;32m     43\u001b[0m             \u001b[0;31m# Remove trailing notes if Gemini still adds them\u001b[0m\u001b[0;34m\u001b[0m\u001b[0;34m\u001b[0m\u001b[0m\n",
            "\u001b[0;32m/usr/local/lib/python3.11/dist-packages/google/generativeai/generative_models.py\u001b[0m in \u001b[0;36mgenerate_content\u001b[0;34m(self, contents, generation_config, safety_settings, stream, tools, tool_config, request_options)\u001b[0m\n\u001b[1;32m    329\u001b[0m                 \u001b[0;32mreturn\u001b[0m \u001b[0mgeneration_types\u001b[0m\u001b[0;34m.\u001b[0m\u001b[0mGenerateContentResponse\u001b[0m\u001b[0;34m.\u001b[0m\u001b[0mfrom_iterator\u001b[0m\u001b[0;34m(\u001b[0m\u001b[0miterator\u001b[0m\u001b[0;34m)\u001b[0m\u001b[0;34m\u001b[0m\u001b[0;34m\u001b[0m\u001b[0m\n\u001b[1;32m    330\u001b[0m             \u001b[0;32melse\u001b[0m\u001b[0;34m:\u001b[0m\u001b[0;34m\u001b[0m\u001b[0;34m\u001b[0m\u001b[0m\n\u001b[0;32m--> 331\u001b[0;31m                 response = self._client.generate_content(\n\u001b[0m\u001b[1;32m    332\u001b[0m                     \u001b[0mrequest\u001b[0m\u001b[0;34m,\u001b[0m\u001b[0;34m\u001b[0m\u001b[0;34m\u001b[0m\u001b[0m\n\u001b[1;32m    333\u001b[0m                     \u001b[0;34m**\u001b[0m\u001b[0mrequest_options\u001b[0m\u001b[0;34m,\u001b[0m\u001b[0;34m\u001b[0m\u001b[0;34m\u001b[0m\u001b[0m\n",
            "\u001b[0;32m/usr/local/lib/python3.11/dist-packages/google/ai/generativelanguage_v1beta/services/generative_service/client.py\u001b[0m in \u001b[0;36mgenerate_content\u001b[0;34m(self, request, model, contents, retry, timeout, metadata)\u001b[0m\n\u001b[1;32m    833\u001b[0m \u001b[0;34m\u001b[0m\u001b[0m\n\u001b[1;32m    834\u001b[0m         \u001b[0;31m# Send the request.\u001b[0m\u001b[0;34m\u001b[0m\u001b[0;34m\u001b[0m\u001b[0m\n\u001b[0;32m--> 835\u001b[0;31m         response = rpc(\n\u001b[0m\u001b[1;32m    836\u001b[0m             \u001b[0mrequest\u001b[0m\u001b[0;34m,\u001b[0m\u001b[0;34m\u001b[0m\u001b[0;34m\u001b[0m\u001b[0m\n\u001b[1;32m    837\u001b[0m             \u001b[0mretry\u001b[0m\u001b[0;34m=\u001b[0m\u001b[0mretry\u001b[0m\u001b[0;34m,\u001b[0m\u001b[0;34m\u001b[0m\u001b[0;34m\u001b[0m\u001b[0m\n",
            "\u001b[0;32m/usr/local/lib/python3.11/dist-packages/google/api_core/gapic_v1/method.py\u001b[0m in \u001b[0;36m__call__\u001b[0;34m(self, timeout, retry, compression, *args, **kwargs)\u001b[0m\n\u001b[1;32m    129\u001b[0m             \u001b[0mkwargs\u001b[0m\u001b[0;34m[\u001b[0m\u001b[0;34m\"compression\"\u001b[0m\u001b[0;34m]\u001b[0m \u001b[0;34m=\u001b[0m \u001b[0mcompression\u001b[0m\u001b[0;34m\u001b[0m\u001b[0;34m\u001b[0m\u001b[0m\n\u001b[1;32m    130\u001b[0m \u001b[0;34m\u001b[0m\u001b[0m\n\u001b[0;32m--> 131\u001b[0;31m         \u001b[0;32mreturn\u001b[0m \u001b[0mwrapped_func\u001b[0m\u001b[0;34m(\u001b[0m\u001b[0;34m*\u001b[0m\u001b[0margs\u001b[0m\u001b[0;34m,\u001b[0m \u001b[0;34m**\u001b[0m\u001b[0mkwargs\u001b[0m\u001b[0;34m)\u001b[0m\u001b[0;34m\u001b[0m\u001b[0;34m\u001b[0m\u001b[0m\n\u001b[0m\u001b[1;32m    132\u001b[0m \u001b[0;34m\u001b[0m\u001b[0m\n\u001b[1;32m    133\u001b[0m \u001b[0;34m\u001b[0m\u001b[0m\n",
            "\u001b[0;32m/usr/local/lib/python3.11/dist-packages/google/api_core/retry/retry_unary.py\u001b[0m in \u001b[0;36mretry_wrapped_func\u001b[0;34m(*args, **kwargs)\u001b[0m\n\u001b[1;32m    292\u001b[0m                 \u001b[0mself\u001b[0m\u001b[0;34m.\u001b[0m\u001b[0m_initial\u001b[0m\u001b[0;34m,\u001b[0m \u001b[0mself\u001b[0m\u001b[0;34m.\u001b[0m\u001b[0m_maximum\u001b[0m\u001b[0;34m,\u001b[0m \u001b[0mmultiplier\u001b[0m\u001b[0;34m=\u001b[0m\u001b[0mself\u001b[0m\u001b[0;34m.\u001b[0m\u001b[0m_multiplier\u001b[0m\u001b[0;34m\u001b[0m\u001b[0;34m\u001b[0m\u001b[0m\n\u001b[1;32m    293\u001b[0m             )\n\u001b[0;32m--> 294\u001b[0;31m             return retry_target(\n\u001b[0m\u001b[1;32m    295\u001b[0m                 \u001b[0mtarget\u001b[0m\u001b[0;34m,\u001b[0m\u001b[0;34m\u001b[0m\u001b[0;34m\u001b[0m\u001b[0m\n\u001b[1;32m    296\u001b[0m                 \u001b[0mself\u001b[0m\u001b[0;34m.\u001b[0m\u001b[0m_predicate\u001b[0m\u001b[0;34m,\u001b[0m\u001b[0;34m\u001b[0m\u001b[0;34m\u001b[0m\u001b[0m\n",
            "\u001b[0;32m/usr/local/lib/python3.11/dist-packages/google/api_core/retry/retry_unary.py\u001b[0m in \u001b[0;36mretry_target\u001b[0;34m(target, predicate, sleep_generator, timeout, on_error, exception_factory, **kwargs)\u001b[0m\n\u001b[1;32m    145\u001b[0m     \u001b[0;32mwhile\u001b[0m \u001b[0;32mTrue\u001b[0m\u001b[0;34m:\u001b[0m\u001b[0;34m\u001b[0m\u001b[0;34m\u001b[0m\u001b[0m\n\u001b[1;32m    146\u001b[0m         \u001b[0;32mtry\u001b[0m\u001b[0;34m:\u001b[0m\u001b[0;34m\u001b[0m\u001b[0;34m\u001b[0m\u001b[0m\n\u001b[0;32m--> 147\u001b[0;31m             \u001b[0mresult\u001b[0m \u001b[0;34m=\u001b[0m \u001b[0mtarget\u001b[0m\u001b[0;34m(\u001b[0m\u001b[0;34m)\u001b[0m\u001b[0;34m\u001b[0m\u001b[0;34m\u001b[0m\u001b[0m\n\u001b[0m\u001b[1;32m    148\u001b[0m             \u001b[0;32mif\u001b[0m \u001b[0minspect\u001b[0m\u001b[0;34m.\u001b[0m\u001b[0misawaitable\u001b[0m\u001b[0;34m(\u001b[0m\u001b[0mresult\u001b[0m\u001b[0;34m)\u001b[0m\u001b[0;34m:\u001b[0m\u001b[0;34m\u001b[0m\u001b[0;34m\u001b[0m\u001b[0m\n\u001b[1;32m    149\u001b[0m                 \u001b[0mwarnings\u001b[0m\u001b[0;34m.\u001b[0m\u001b[0mwarn\u001b[0m\u001b[0;34m(\u001b[0m\u001b[0m_ASYNC_RETRY_WARNING\u001b[0m\u001b[0;34m)\u001b[0m\u001b[0;34m\u001b[0m\u001b[0;34m\u001b[0m\u001b[0m\n",
            "\u001b[0;32m/usr/local/lib/python3.11/dist-packages/google/api_core/timeout.py\u001b[0m in \u001b[0;36mfunc_with_timeout\u001b[0;34m(*args, **kwargs)\u001b[0m\n\u001b[1;32m    128\u001b[0m                 \u001b[0mkwargs\u001b[0m\u001b[0;34m[\u001b[0m\u001b[0;34m\"timeout\"\u001b[0m\u001b[0;34m]\u001b[0m \u001b[0;34m=\u001b[0m \u001b[0mremaining_timeout\u001b[0m\u001b[0;34m\u001b[0m\u001b[0;34m\u001b[0m\u001b[0m\n\u001b[1;32m    129\u001b[0m \u001b[0;34m\u001b[0m\u001b[0m\n\u001b[0;32m--> 130\u001b[0;31m             \u001b[0;32mreturn\u001b[0m \u001b[0mfunc\u001b[0m\u001b[0;34m(\u001b[0m\u001b[0;34m*\u001b[0m\u001b[0margs\u001b[0m\u001b[0;34m,\u001b[0m \u001b[0;34m**\u001b[0m\u001b[0mkwargs\u001b[0m\u001b[0;34m)\u001b[0m\u001b[0;34m\u001b[0m\u001b[0;34m\u001b[0m\u001b[0m\n\u001b[0m\u001b[1;32m    131\u001b[0m \u001b[0;34m\u001b[0m\u001b[0m\n\u001b[1;32m    132\u001b[0m         \u001b[0;32mreturn\u001b[0m \u001b[0mfunc_with_timeout\u001b[0m\u001b[0;34m\u001b[0m\u001b[0;34m\u001b[0m\u001b[0m\n",
            "\u001b[0;32m/usr/local/lib/python3.11/dist-packages/google/api_core/grpc_helpers.py\u001b[0m in \u001b[0;36merror_remapped_callable\u001b[0;34m(*args, **kwargs)\u001b[0m\n\u001b[1;32m     74\u001b[0m     \u001b[0;32mdef\u001b[0m \u001b[0merror_remapped_callable\u001b[0m\u001b[0;34m(\u001b[0m\u001b[0;34m*\u001b[0m\u001b[0margs\u001b[0m\u001b[0;34m,\u001b[0m \u001b[0;34m**\u001b[0m\u001b[0mkwargs\u001b[0m\u001b[0;34m)\u001b[0m\u001b[0;34m:\u001b[0m\u001b[0;34m\u001b[0m\u001b[0;34m\u001b[0m\u001b[0m\n\u001b[1;32m     75\u001b[0m         \u001b[0;32mtry\u001b[0m\u001b[0;34m:\u001b[0m\u001b[0;34m\u001b[0m\u001b[0;34m\u001b[0m\u001b[0m\n\u001b[0;32m---> 76\u001b[0;31m             \u001b[0;32mreturn\u001b[0m \u001b[0mcallable_\u001b[0m\u001b[0;34m(\u001b[0m\u001b[0;34m*\u001b[0m\u001b[0margs\u001b[0m\u001b[0;34m,\u001b[0m \u001b[0;34m**\u001b[0m\u001b[0mkwargs\u001b[0m\u001b[0;34m)\u001b[0m\u001b[0;34m\u001b[0m\u001b[0;34m\u001b[0m\u001b[0m\n\u001b[0m\u001b[1;32m     77\u001b[0m         \u001b[0;32mexcept\u001b[0m \u001b[0mgrpc\u001b[0m\u001b[0;34m.\u001b[0m\u001b[0mRpcError\u001b[0m \u001b[0;32mas\u001b[0m \u001b[0mexc\u001b[0m\u001b[0;34m:\u001b[0m\u001b[0;34m\u001b[0m\u001b[0;34m\u001b[0m\u001b[0m\n\u001b[1;32m     78\u001b[0m             \u001b[0;32mraise\u001b[0m \u001b[0mexceptions\u001b[0m\u001b[0;34m.\u001b[0m\u001b[0mfrom_grpc_error\u001b[0m\u001b[0;34m(\u001b[0m\u001b[0mexc\u001b[0m\u001b[0;34m)\u001b[0m \u001b[0;32mfrom\u001b[0m \u001b[0mexc\u001b[0m\u001b[0;34m\u001b[0m\u001b[0;34m\u001b[0m\u001b[0m\n",
            "\u001b[0;32m/usr/local/lib/python3.11/dist-packages/google/ai/generativelanguage_v1beta/services/generative_service/transports/rest.py\u001b[0m in \u001b[0;36m__call__\u001b[0;34m(self, request, retry, timeout, metadata)\u001b[0m\n\u001b[1;32m   1146\u001b[0m \u001b[0;34m\u001b[0m\u001b[0m\n\u001b[1;32m   1147\u001b[0m             \u001b[0;31m# Send the request\u001b[0m\u001b[0;34m\u001b[0m\u001b[0;34m\u001b[0m\u001b[0m\n\u001b[0;32m-> 1148\u001b[0;31m             response = GenerativeServiceRestTransport._GenerateContent._get_response(\n\u001b[0m\u001b[1;32m   1149\u001b[0m                 \u001b[0mself\u001b[0m\u001b[0;34m.\u001b[0m\u001b[0m_host\u001b[0m\u001b[0;34m,\u001b[0m\u001b[0;34m\u001b[0m\u001b[0;34m\u001b[0m\u001b[0m\n\u001b[1;32m   1150\u001b[0m                 \u001b[0mmetadata\u001b[0m\u001b[0;34m,\u001b[0m\u001b[0;34m\u001b[0m\u001b[0;34m\u001b[0m\u001b[0m\n",
            "\u001b[0;32m/usr/local/lib/python3.11/dist-packages/google/ai/generativelanguage_v1beta/services/generative_service/transports/rest.py\u001b[0m in \u001b[0;36m_get_response\u001b[0;34m(host, metadata, query_params, session, timeout, transcoded_request, body)\u001b[0m\n\u001b[1;32m   1046\u001b[0m             \u001b[0mheaders\u001b[0m \u001b[0;34m=\u001b[0m \u001b[0mdict\u001b[0m\u001b[0;34m(\u001b[0m\u001b[0mmetadata\u001b[0m\u001b[0;34m)\u001b[0m\u001b[0;34m\u001b[0m\u001b[0;34m\u001b[0m\u001b[0m\n\u001b[1;32m   1047\u001b[0m             \u001b[0mheaders\u001b[0m\u001b[0;34m[\u001b[0m\u001b[0;34m\"Content-Type\"\u001b[0m\u001b[0;34m]\u001b[0m \u001b[0;34m=\u001b[0m \u001b[0;34m\"application/json\"\u001b[0m\u001b[0;34m\u001b[0m\u001b[0;34m\u001b[0m\u001b[0m\n\u001b[0;32m-> 1048\u001b[0;31m             response = getattr(session, method)(\n\u001b[0m\u001b[1;32m   1049\u001b[0m                 \u001b[0;34m\"{host}{uri}\"\u001b[0m\u001b[0;34m.\u001b[0m\u001b[0mformat\u001b[0m\u001b[0;34m(\u001b[0m\u001b[0mhost\u001b[0m\u001b[0;34m=\u001b[0m\u001b[0mhost\u001b[0m\u001b[0;34m,\u001b[0m \u001b[0muri\u001b[0m\u001b[0;34m=\u001b[0m\u001b[0muri\u001b[0m\u001b[0;34m)\u001b[0m\u001b[0;34m,\u001b[0m\u001b[0;34m\u001b[0m\u001b[0;34m\u001b[0m\u001b[0m\n\u001b[1;32m   1050\u001b[0m                 \u001b[0mtimeout\u001b[0m\u001b[0;34m=\u001b[0m\u001b[0mtimeout\u001b[0m\u001b[0;34m,\u001b[0m\u001b[0;34m\u001b[0m\u001b[0;34m\u001b[0m\u001b[0m\n",
            "\u001b[0;32m/usr/local/lib/python3.11/dist-packages/requests/sessions.py\u001b[0m in \u001b[0;36mpost\u001b[0;34m(self, url, data, json, **kwargs)\u001b[0m\n\u001b[1;32m    635\u001b[0m         \"\"\"\n\u001b[1;32m    636\u001b[0m \u001b[0;34m\u001b[0m\u001b[0m\n\u001b[0;32m--> 637\u001b[0;31m         \u001b[0;32mreturn\u001b[0m \u001b[0mself\u001b[0m\u001b[0;34m.\u001b[0m\u001b[0mrequest\u001b[0m\u001b[0;34m(\u001b[0m\u001b[0;34m\"POST\"\u001b[0m\u001b[0;34m,\u001b[0m \u001b[0murl\u001b[0m\u001b[0;34m,\u001b[0m \u001b[0mdata\u001b[0m\u001b[0;34m=\u001b[0m\u001b[0mdata\u001b[0m\u001b[0;34m,\u001b[0m \u001b[0mjson\u001b[0m\u001b[0;34m=\u001b[0m\u001b[0mjson\u001b[0m\u001b[0;34m,\u001b[0m \u001b[0;34m**\u001b[0m\u001b[0mkwargs\u001b[0m\u001b[0;34m)\u001b[0m\u001b[0;34m\u001b[0m\u001b[0;34m\u001b[0m\u001b[0m\n\u001b[0m\u001b[1;32m    638\u001b[0m \u001b[0;34m\u001b[0m\u001b[0m\n\u001b[1;32m    639\u001b[0m     \u001b[0;32mdef\u001b[0m \u001b[0mput\u001b[0m\u001b[0;34m(\u001b[0m\u001b[0mself\u001b[0m\u001b[0;34m,\u001b[0m \u001b[0murl\u001b[0m\u001b[0;34m,\u001b[0m \u001b[0mdata\u001b[0m\u001b[0;34m=\u001b[0m\u001b[0;32mNone\u001b[0m\u001b[0;34m,\u001b[0m \u001b[0;34m**\u001b[0m\u001b[0mkwargs\u001b[0m\u001b[0;34m)\u001b[0m\u001b[0;34m:\u001b[0m\u001b[0;34m\u001b[0m\u001b[0;34m\u001b[0m\u001b[0m\n",
            "\u001b[0;32m/usr/local/lib/python3.11/dist-packages/google/auth/transport/requests.py\u001b[0m in \u001b[0;36mrequest\u001b[0;34m(self, method, url, data, headers, max_allowed_time, timeout, **kwargs)\u001b[0m\n\u001b[1;32m    535\u001b[0m \u001b[0;34m\u001b[0m\u001b[0m\n\u001b[1;32m    536\u001b[0m         \u001b[0;32mwith\u001b[0m \u001b[0mTimeoutGuard\u001b[0m\u001b[0;34m(\u001b[0m\u001b[0mremaining_time\u001b[0m\u001b[0;34m)\u001b[0m \u001b[0;32mas\u001b[0m \u001b[0mguard\u001b[0m\u001b[0;34m:\u001b[0m\u001b[0;34m\u001b[0m\u001b[0;34m\u001b[0m\u001b[0m\n\u001b[0;32m--> 537\u001b[0;31m             response = super(AuthorizedSession, self).request(\n\u001b[0m\u001b[1;32m    538\u001b[0m                 \u001b[0mmethod\u001b[0m\u001b[0;34m,\u001b[0m\u001b[0;34m\u001b[0m\u001b[0;34m\u001b[0m\u001b[0m\n\u001b[1;32m    539\u001b[0m                 \u001b[0murl\u001b[0m\u001b[0;34m,\u001b[0m\u001b[0;34m\u001b[0m\u001b[0;34m\u001b[0m\u001b[0m\n",
            "\u001b[0;32m/usr/local/lib/python3.11/dist-packages/requests/sessions.py\u001b[0m in \u001b[0;36mrequest\u001b[0;34m(self, method, url, params, data, headers, cookies, files, auth, timeout, allow_redirects, proxies, hooks, stream, verify, cert, json)\u001b[0m\n\u001b[1;32m    587\u001b[0m         }\n\u001b[1;32m    588\u001b[0m         \u001b[0msend_kwargs\u001b[0m\u001b[0;34m.\u001b[0m\u001b[0mupdate\u001b[0m\u001b[0;34m(\u001b[0m\u001b[0msettings\u001b[0m\u001b[0;34m)\u001b[0m\u001b[0;34m\u001b[0m\u001b[0;34m\u001b[0m\u001b[0m\n\u001b[0;32m--> 589\u001b[0;31m         \u001b[0mresp\u001b[0m \u001b[0;34m=\u001b[0m \u001b[0mself\u001b[0m\u001b[0;34m.\u001b[0m\u001b[0msend\u001b[0m\u001b[0;34m(\u001b[0m\u001b[0mprep\u001b[0m\u001b[0;34m,\u001b[0m \u001b[0;34m**\u001b[0m\u001b[0msend_kwargs\u001b[0m\u001b[0;34m)\u001b[0m\u001b[0;34m\u001b[0m\u001b[0;34m\u001b[0m\u001b[0m\n\u001b[0m\u001b[1;32m    590\u001b[0m \u001b[0;34m\u001b[0m\u001b[0m\n\u001b[1;32m    591\u001b[0m         \u001b[0;32mreturn\u001b[0m \u001b[0mresp\u001b[0m\u001b[0;34m\u001b[0m\u001b[0;34m\u001b[0m\u001b[0m\n",
            "\u001b[0;32m/usr/local/lib/python3.11/dist-packages/requests/sessions.py\u001b[0m in \u001b[0;36msend\u001b[0;34m(self, request, **kwargs)\u001b[0m\n\u001b[1;32m    701\u001b[0m \u001b[0;34m\u001b[0m\u001b[0m\n\u001b[1;32m    702\u001b[0m         \u001b[0;31m# Send the request\u001b[0m\u001b[0;34m\u001b[0m\u001b[0;34m\u001b[0m\u001b[0m\n\u001b[0;32m--> 703\u001b[0;31m         \u001b[0mr\u001b[0m \u001b[0;34m=\u001b[0m \u001b[0madapter\u001b[0m\u001b[0;34m.\u001b[0m\u001b[0msend\u001b[0m\u001b[0;34m(\u001b[0m\u001b[0mrequest\u001b[0m\u001b[0;34m,\u001b[0m \u001b[0;34m**\u001b[0m\u001b[0mkwargs\u001b[0m\u001b[0;34m)\u001b[0m\u001b[0;34m\u001b[0m\u001b[0;34m\u001b[0m\u001b[0m\n\u001b[0m\u001b[1;32m    704\u001b[0m \u001b[0;34m\u001b[0m\u001b[0m\n\u001b[1;32m    705\u001b[0m         \u001b[0;31m# Total elapsed time of the request (approximately)\u001b[0m\u001b[0;34m\u001b[0m\u001b[0;34m\u001b[0m\u001b[0m\n",
            "\u001b[0;32m/usr/local/lib/python3.11/dist-packages/requests/adapters.py\u001b[0m in \u001b[0;36msend\u001b[0;34m(self, request, stream, timeout, verify, cert, proxies)\u001b[0m\n\u001b[1;32m    665\u001b[0m \u001b[0;34m\u001b[0m\u001b[0m\n\u001b[1;32m    666\u001b[0m         \u001b[0;32mtry\u001b[0m\u001b[0;34m:\u001b[0m\u001b[0;34m\u001b[0m\u001b[0;34m\u001b[0m\u001b[0m\n\u001b[0;32m--> 667\u001b[0;31m             resp = conn.urlopen(\n\u001b[0m\u001b[1;32m    668\u001b[0m                 \u001b[0mmethod\u001b[0m\u001b[0;34m=\u001b[0m\u001b[0mrequest\u001b[0m\u001b[0;34m.\u001b[0m\u001b[0mmethod\u001b[0m\u001b[0;34m,\u001b[0m\u001b[0;34m\u001b[0m\u001b[0;34m\u001b[0m\u001b[0m\n\u001b[1;32m    669\u001b[0m                 \u001b[0murl\u001b[0m\u001b[0;34m=\u001b[0m\u001b[0murl\u001b[0m\u001b[0;34m,\u001b[0m\u001b[0;34m\u001b[0m\u001b[0;34m\u001b[0m\u001b[0m\n",
            "\u001b[0;32m/usr/local/lib/python3.11/dist-packages/urllib3/connectionpool.py\u001b[0m in \u001b[0;36murlopen\u001b[0;34m(self, method, url, body, headers, retries, redirect, assert_same_host, timeout, pool_timeout, release_conn, chunked, body_pos, preload_content, decode_content, **response_kw)\u001b[0m\n\u001b[1;32m    785\u001b[0m \u001b[0;34m\u001b[0m\u001b[0m\n\u001b[1;32m    786\u001b[0m             \u001b[0;31m# Make the request on the HTTPConnection object\u001b[0m\u001b[0;34m\u001b[0m\u001b[0;34m\u001b[0m\u001b[0m\n\u001b[0;32m--> 787\u001b[0;31m             response = self._make_request(\n\u001b[0m\u001b[1;32m    788\u001b[0m                 \u001b[0mconn\u001b[0m\u001b[0;34m,\u001b[0m\u001b[0;34m\u001b[0m\u001b[0;34m\u001b[0m\u001b[0m\n\u001b[1;32m    789\u001b[0m                 \u001b[0mmethod\u001b[0m\u001b[0;34m,\u001b[0m\u001b[0;34m\u001b[0m\u001b[0;34m\u001b[0m\u001b[0m\n",
            "\u001b[0;32m/usr/local/lib/python3.11/dist-packages/urllib3/connectionpool.py\u001b[0m in \u001b[0;36m_make_request\u001b[0;34m(self, conn, method, url, body, headers, retries, timeout, chunked, response_conn, preload_content, decode_content, enforce_content_length)\u001b[0m\n\u001b[1;32m    532\u001b[0m         \u001b[0;31m# Receive the response from the server\u001b[0m\u001b[0;34m\u001b[0m\u001b[0;34m\u001b[0m\u001b[0m\n\u001b[1;32m    533\u001b[0m         \u001b[0;32mtry\u001b[0m\u001b[0;34m:\u001b[0m\u001b[0;34m\u001b[0m\u001b[0;34m\u001b[0m\u001b[0m\n\u001b[0;32m--> 534\u001b[0;31m             \u001b[0mresponse\u001b[0m \u001b[0;34m=\u001b[0m \u001b[0mconn\u001b[0m\u001b[0;34m.\u001b[0m\u001b[0mgetresponse\u001b[0m\u001b[0;34m(\u001b[0m\u001b[0;34m)\u001b[0m\u001b[0;34m\u001b[0m\u001b[0;34m\u001b[0m\u001b[0m\n\u001b[0m\u001b[1;32m    535\u001b[0m         \u001b[0;32mexcept\u001b[0m \u001b[0;34m(\u001b[0m\u001b[0mBaseSSLError\u001b[0m\u001b[0;34m,\u001b[0m \u001b[0mOSError\u001b[0m\u001b[0;34m)\u001b[0m \u001b[0;32mas\u001b[0m \u001b[0me\u001b[0m\u001b[0;34m:\u001b[0m\u001b[0;34m\u001b[0m\u001b[0;34m\u001b[0m\u001b[0m\n\u001b[1;32m    536\u001b[0m             \u001b[0mself\u001b[0m\u001b[0;34m.\u001b[0m\u001b[0m_raise_timeout\u001b[0m\u001b[0;34m(\u001b[0m\u001b[0merr\u001b[0m\u001b[0;34m=\u001b[0m\u001b[0me\u001b[0m\u001b[0;34m,\u001b[0m \u001b[0murl\u001b[0m\u001b[0;34m=\u001b[0m\u001b[0murl\u001b[0m\u001b[0;34m,\u001b[0m \u001b[0mtimeout_value\u001b[0m\u001b[0;34m=\u001b[0m\u001b[0mread_timeout\u001b[0m\u001b[0;34m)\u001b[0m\u001b[0;34m\u001b[0m\u001b[0;34m\u001b[0m\u001b[0m\n",
            "\u001b[0;32m/usr/local/lib/python3.11/dist-packages/urllib3/connection.py\u001b[0m in \u001b[0;36mgetresponse\u001b[0;34m(self)\u001b[0m\n\u001b[1;32m    514\u001b[0m \u001b[0;34m\u001b[0m\u001b[0m\n\u001b[1;32m    515\u001b[0m         \u001b[0;31m# Get the response from http.client.HTTPConnection\u001b[0m\u001b[0;34m\u001b[0m\u001b[0;34m\u001b[0m\u001b[0m\n\u001b[0;32m--> 516\u001b[0;31m         \u001b[0mhttplib_response\u001b[0m \u001b[0;34m=\u001b[0m \u001b[0msuper\u001b[0m\u001b[0;34m(\u001b[0m\u001b[0;34m)\u001b[0m\u001b[0;34m.\u001b[0m\u001b[0mgetresponse\u001b[0m\u001b[0;34m(\u001b[0m\u001b[0;34m)\u001b[0m\u001b[0;34m\u001b[0m\u001b[0;34m\u001b[0m\u001b[0m\n\u001b[0m\u001b[1;32m    517\u001b[0m \u001b[0;34m\u001b[0m\u001b[0m\n\u001b[1;32m    518\u001b[0m         \u001b[0;32mtry\u001b[0m\u001b[0;34m:\u001b[0m\u001b[0;34m\u001b[0m\u001b[0;34m\u001b[0m\u001b[0m\n",
            "\u001b[0;32m/usr/lib/python3.11/http/client.py\u001b[0m in \u001b[0;36mgetresponse\u001b[0;34m(self)\u001b[0m\n\u001b[1;32m   1393\u001b[0m         \u001b[0;32mtry\u001b[0m\u001b[0;34m:\u001b[0m\u001b[0;34m\u001b[0m\u001b[0;34m\u001b[0m\u001b[0m\n\u001b[1;32m   1394\u001b[0m             \u001b[0;32mtry\u001b[0m\u001b[0;34m:\u001b[0m\u001b[0;34m\u001b[0m\u001b[0;34m\u001b[0m\u001b[0m\n\u001b[0;32m-> 1395\u001b[0;31m                 \u001b[0mresponse\u001b[0m\u001b[0;34m.\u001b[0m\u001b[0mbegin\u001b[0m\u001b[0;34m(\u001b[0m\u001b[0;34m)\u001b[0m\u001b[0;34m\u001b[0m\u001b[0;34m\u001b[0m\u001b[0m\n\u001b[0m\u001b[1;32m   1396\u001b[0m             \u001b[0;32mexcept\u001b[0m \u001b[0mConnectionError\u001b[0m\u001b[0;34m:\u001b[0m\u001b[0;34m\u001b[0m\u001b[0;34m\u001b[0m\u001b[0m\n\u001b[1;32m   1397\u001b[0m                 \u001b[0mself\u001b[0m\u001b[0;34m.\u001b[0m\u001b[0mclose\u001b[0m\u001b[0;34m(\u001b[0m\u001b[0;34m)\u001b[0m\u001b[0;34m\u001b[0m\u001b[0;34m\u001b[0m\u001b[0m\n",
            "\u001b[0;32m/usr/lib/python3.11/http/client.py\u001b[0m in \u001b[0;36mbegin\u001b[0;34m(self)\u001b[0m\n\u001b[1;32m    323\u001b[0m         \u001b[0;31m# read until we get a non-100 response\u001b[0m\u001b[0;34m\u001b[0m\u001b[0;34m\u001b[0m\u001b[0m\n\u001b[1;32m    324\u001b[0m         \u001b[0;32mwhile\u001b[0m \u001b[0;32mTrue\u001b[0m\u001b[0;34m:\u001b[0m\u001b[0;34m\u001b[0m\u001b[0;34m\u001b[0m\u001b[0m\n\u001b[0;32m--> 325\u001b[0;31m             \u001b[0mversion\u001b[0m\u001b[0;34m,\u001b[0m \u001b[0mstatus\u001b[0m\u001b[0;34m,\u001b[0m \u001b[0mreason\u001b[0m \u001b[0;34m=\u001b[0m \u001b[0mself\u001b[0m\u001b[0;34m.\u001b[0m\u001b[0m_read_status\u001b[0m\u001b[0;34m(\u001b[0m\u001b[0;34m)\u001b[0m\u001b[0;34m\u001b[0m\u001b[0;34m\u001b[0m\u001b[0m\n\u001b[0m\u001b[1;32m    326\u001b[0m             \u001b[0;32mif\u001b[0m \u001b[0mstatus\u001b[0m \u001b[0;34m!=\u001b[0m \u001b[0mCONTINUE\u001b[0m\u001b[0;34m:\u001b[0m\u001b[0;34m\u001b[0m\u001b[0;34m\u001b[0m\u001b[0m\n\u001b[1;32m    327\u001b[0m                 \u001b[0;32mbreak\u001b[0m\u001b[0;34m\u001b[0m\u001b[0;34m\u001b[0m\u001b[0m\n",
            "\u001b[0;32m/usr/lib/python3.11/http/client.py\u001b[0m in \u001b[0;36m_read_status\u001b[0;34m(self)\u001b[0m\n\u001b[1;32m    284\u001b[0m \u001b[0;34m\u001b[0m\u001b[0m\n\u001b[1;32m    285\u001b[0m     \u001b[0;32mdef\u001b[0m \u001b[0m_read_status\u001b[0m\u001b[0;34m(\u001b[0m\u001b[0mself\u001b[0m\u001b[0;34m)\u001b[0m\u001b[0;34m:\u001b[0m\u001b[0;34m\u001b[0m\u001b[0;34m\u001b[0m\u001b[0m\n\u001b[0;32m--> 286\u001b[0;31m         \u001b[0mline\u001b[0m \u001b[0;34m=\u001b[0m \u001b[0mstr\u001b[0m\u001b[0;34m(\u001b[0m\u001b[0mself\u001b[0m\u001b[0;34m.\u001b[0m\u001b[0mfp\u001b[0m\u001b[0;34m.\u001b[0m\u001b[0mreadline\u001b[0m\u001b[0;34m(\u001b[0m\u001b[0m_MAXLINE\u001b[0m \u001b[0;34m+\u001b[0m \u001b[0;36m1\u001b[0m\u001b[0;34m)\u001b[0m\u001b[0;34m,\u001b[0m \u001b[0;34m\"iso-8859-1\"\u001b[0m\u001b[0;34m)\u001b[0m\u001b[0;34m\u001b[0m\u001b[0;34m\u001b[0m\u001b[0m\n\u001b[0m\u001b[1;32m    287\u001b[0m         \u001b[0;32mif\u001b[0m \u001b[0mlen\u001b[0m\u001b[0;34m(\u001b[0m\u001b[0mline\u001b[0m\u001b[0;34m)\u001b[0m \u001b[0;34m>\u001b[0m \u001b[0m_MAXLINE\u001b[0m\u001b[0;34m:\u001b[0m\u001b[0;34m\u001b[0m\u001b[0;34m\u001b[0m\u001b[0m\n\u001b[1;32m    288\u001b[0m             \u001b[0;32mraise\u001b[0m \u001b[0mLineTooLong\u001b[0m\u001b[0;34m(\u001b[0m\u001b[0;34m\"status line\"\u001b[0m\u001b[0;34m)\u001b[0m\u001b[0;34m\u001b[0m\u001b[0;34m\u001b[0m\u001b[0m\n",
            "\u001b[0;32m/usr/lib/python3.11/socket.py\u001b[0m in \u001b[0;36mreadinto\u001b[0;34m(self, b)\u001b[0m\n\u001b[1;32m    716\u001b[0m         \u001b[0;32mwhile\u001b[0m \u001b[0;32mTrue\u001b[0m\u001b[0;34m:\u001b[0m\u001b[0;34m\u001b[0m\u001b[0;34m\u001b[0m\u001b[0m\n\u001b[1;32m    717\u001b[0m             \u001b[0;32mtry\u001b[0m\u001b[0;34m:\u001b[0m\u001b[0;34m\u001b[0m\u001b[0;34m\u001b[0m\u001b[0m\n\u001b[0;32m--> 718\u001b[0;31m                 \u001b[0;32mreturn\u001b[0m \u001b[0mself\u001b[0m\u001b[0;34m.\u001b[0m\u001b[0m_sock\u001b[0m\u001b[0;34m.\u001b[0m\u001b[0mrecv_into\u001b[0m\u001b[0;34m(\u001b[0m\u001b[0mb\u001b[0m\u001b[0;34m)\u001b[0m\u001b[0;34m\u001b[0m\u001b[0;34m\u001b[0m\u001b[0m\n\u001b[0m\u001b[1;32m    719\u001b[0m             \u001b[0;32mexcept\u001b[0m \u001b[0mtimeout\u001b[0m\u001b[0;34m:\u001b[0m\u001b[0;34m\u001b[0m\u001b[0;34m\u001b[0m\u001b[0m\n\u001b[1;32m    720\u001b[0m                 \u001b[0mself\u001b[0m\u001b[0;34m.\u001b[0m\u001b[0m_timeout_occurred\u001b[0m \u001b[0;34m=\u001b[0m \u001b[0;32mTrue\u001b[0m\u001b[0;34m\u001b[0m\u001b[0;34m\u001b[0m\u001b[0m\n",
            "\u001b[0;31mKeyboardInterrupt\u001b[0m: "
          ]
        }
      ]
    }
  ]
}